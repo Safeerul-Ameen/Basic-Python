{
 "cells": [
  {
   "cell_type": "markdown",
   "id": "e1aa03f7",
   "metadata": {},
   "source": [
    "# PYTHON PROGRAMMING ASSIGNMENT"
   ]
  },
  {
   "cell_type": "markdown",
   "id": "9be24685",
   "metadata": {},
   "source": [
    "## Exercise 1: Prime Numbers"
   ]
  },
  {
   "cell_type": "code",
   "execution_count": 2,
   "id": "bd0d20f0",
   "metadata": {},
   "outputs": [
    {
     "name": "stdout",
     "output_type": "stream",
     "text": [
      "Enter a positive integer: 1\n",
      "The number 1 is not a prime number.\n"
     ]
    }
   ],
   "source": [
    "def is_prime(num):\n",
    "    # Prime numbers are greater than 1\n",
    "    if num <= 1:\n",
    "        return \"is not a prime number.\"\n",
    "    # Check for factors from 2 up to the square root of num\n",
    "    for i in range(2, int(num**0.5) + 1):\n",
    "        if num % i == 0:\n",
    "            return \"is not a prime number.\"\n",
    "    # If no factors were found, it is a prime number\n",
    "    return \"is a prime number.\"\n",
    "\n",
    "# Input from user\n",
    "num = int(input(\"Enter a positive integer: \"))\n",
    "# Print the result\n",
    "print('The number', num, is_prime(num))"
   ]
  },
  {
   "cell_type": "markdown",
   "id": "597fd0e4",
   "metadata": {},
   "source": [
    "## Exercise 2: Product of Random Numbers"
   ]
  },
  {
   "cell_type": "code",
   "execution_count": 19,
   "id": "1d8cad1f",
   "metadata": {},
   "outputs": [
    {
     "name": "stdout",
     "output_type": "stream",
     "text": [
      "Guess the product between these number 81 and 11\n",
      "Enter your guess for the product: 890\n",
      "Sorry your guess is not correct. The correct answer is  891\n"
     ]
    }
   ],
   "source": [
    "# Generate two random integers between 0 and 100.\n",
    "import random\n",
    "a=random.randint(0,100)\n",
    "b=random.randint(0,100)\n",
    "\n",
    "# Calculate the product of the two numbers.\n",
    "product=a*b\n",
    "\n",
    "# Prompt the user to guess the product\n",
    "print('Guess the product between these number',a,'and',b)\n",
    "user_guess = int(input(\"Enter your guess for the product: \"))\n",
    "\n",
    "# Check if the user's guess is correct\n",
    "if user_guess == product:\n",
    "    print(\"Great, Your guess is correct.\")\n",
    "else:\n",
    "    print('Sorry your guess is not correct. The correct answer is ',product)"
   ]
  },
  {
   "cell_type": "markdown",
   "id": "9fe89c20",
   "metadata": {},
   "source": [
    "## Exercise 3: Squares of Even/Odd Numbers"
   ]
  },
  {
   "cell_type": "code",
   "execution_count": 20,
   "id": "a0b92d78",
   "metadata": {},
   "outputs": [
    {
     "name": "stdout",
     "output_type": "stream",
     "text": [
      "The square of 100 is 10000\n",
      "The square of 102 is 10404\n",
      "The square of 104 is 10816\n",
      "The square of 106 is 11236\n",
      "The square of 108 is 11664\n",
      "The square of 110 is 12100\n",
      "The square of 112 is 12544\n",
      "The square of 114 is 12996\n",
      "The square of 116 is 13456\n",
      "The square of 118 is 13924\n",
      "The square of 120 is 14400\n",
      "The square of 122 is 14884\n",
      "The square of 124 is 15376\n",
      "The square of 126 is 15876\n",
      "The square of 128 is 16384\n",
      "The square of 130 is 16900\n",
      "The square of 132 is 17424\n",
      "The square of 134 is 17956\n",
      "The square of 136 is 18496\n",
      "The square of 138 is 19044\n",
      "The square of 140 is 19600\n",
      "The square of 142 is 20164\n",
      "The square of 144 is 20736\n",
      "The square of 146 is 21316\n",
      "The square of 148 is 21904\n",
      "The square of 150 is 22500\n",
      "The square of 152 is 23104\n",
      "The square of 154 is 23716\n",
      "The square of 156 is 24336\n",
      "The square of 158 is 24964\n",
      "The square of 160 is 25600\n",
      "The square of 162 is 26244\n",
      "The square of 164 is 26896\n",
      "The square of 166 is 27556\n",
      "The square of 168 is 28224\n",
      "The square of 170 is 28900\n",
      "The square of 172 is 29584\n",
      "The square of 174 is 30276\n",
      "The square of 176 is 30976\n",
      "The square of 178 is 31684\n",
      "The square of 180 is 32400\n",
      "The square of 182 is 33124\n",
      "The square of 184 is 33856\n",
      "The square of 186 is 34596\n",
      "The square of 188 is 35344\n",
      "The square of 190 is 36100\n",
      "The square of 192 is 36864\n",
      "The square of 194 is 37636\n",
      "The square of 196 is 38416\n",
      "The square of 198 is 39204\n",
      "The square of 200 is 40000\n"
     ]
    }
   ],
   "source": [
    "# Loop through all even numbers between 100 and 200 (inclusive)\n",
    "for i in range(100, 201, 2):\n",
    "    # Calculate the square of the current number\n",
    "    square = i ** 2\n",
    "    # Print the result\n",
    "    print(f\"The square of {i} is {square}\")"
   ]
  },
  {
   "cell_type": "markdown",
   "id": "e79403f7",
   "metadata": {},
   "source": [
    "## Exercise 4: Word counter"
   ]
  },
  {
   "cell_type": "code",
   "execution_count": 21,
   "id": "ea5f719b",
   "metadata": {},
   "outputs": [
    {
     "data": {
      "text/plain": [
       "{'this': 2,\n",
       " 'is': 1,\n",
       " 'a': 1,\n",
       " 'sample': 1,\n",
       " 'text.': 1,\n",
       " 'text': 1,\n",
       " 'will': 1,\n",
       " 'be': 1,\n",
       " 'used': 1,\n",
       " 'to': 1,\n",
       " 'demonstrate': 1,\n",
       " 'the': 1,\n",
       " 'word': 1,\n",
       " 'counter.': 1}"
      ]
     },
     "execution_count": 21,
     "metadata": {},
     "output_type": "execute_result"
    }
   ],
   "source": [
    "def word_count(text):\n",
    "    \"\"\"\n",
    "    Count the occurrences of each word in the given text.\n",
    "    Args:\n",
    "    text (str): The input text to analyze.\n",
    "    Returns:\n",
    "    dict: A dictionary where the keys are words and the values are their counts.\n",
    "    \"\"\"\n",
    "    # Convert the text to lowercase and split it into words using whitespace as the delimiter.\n",
    "    words=text.lower().split()\n",
    "    # Initialize an empty dictionary to store count of each word.\n",
    "    word_count={}\n",
    "    # Iterate over each word in the list of words.\n",
    "    for word in words:\n",
    "        # For each word, increase its count by 1. If the word is not already in the dictionary, add it with a count of 1.\n",
    "        word_count[word]=word_count.get(word,0)+1\n",
    "    return word_count\n",
    "text = \"This is a sample text. This text will be used to demonstrate the word counter.\"\n",
    "word_count(text)"
   ]
  },
  {
   "cell_type": "markdown",
   "id": "f8f179d9",
   "metadata": {},
   "source": [
    "## Exercise 5: Check for Palindrome"
   ]
  },
  {
   "cell_type": "code",
   "execution_count": 22,
   "id": "7adb6c26",
   "metadata": {},
   "outputs": [
    {
     "name": "stdout",
     "output_type": "stream",
     "text": [
      "Enter your string: asdFG@##123 3#21 GFDSA\n"
     ]
    },
    {
     "data": {
      "text/plain": [
       "True"
      ]
     },
     "execution_count": 22,
     "metadata": {},
     "output_type": "execute_result"
    }
   ],
   "source": [
    "s=input(\"Enter your string: \")\n",
    "def is_palindrome(s):\n",
    "    # Initialize an empty list to store alphanumeric characters\n",
    "    cleaned_chars = []\n",
    "    \n",
    "    # Iterate through each character in the input string\n",
    "    for char in s:\n",
    "        # If the character is alphanumeric, convert to lowercase and add to the list\n",
    "        if char.isalnum():\n",
    "            cleaned_chars.append(char.lower())\n",
    "    \n",
    "    # Create the cleaned string from the list of characters\n",
    "    cleaned_str = ''.join(cleaned_chars)\n",
    "    \n",
    "    # Check if the cleaned string is equal to its reverse\n",
    "    return cleaned_str == cleaned_str[::-1]\n",
    "is_palindrome(s)"
   ]
  }
 ],
 "metadata": {
  "kernelspec": {
   "display_name": "Python 3 (ipykernel)",
   "language": "python",
   "name": "python3"
  },
  "language_info": {
   "codemirror_mode": {
    "name": "ipython",
    "version": 3
   },
   "file_extension": ".py",
   "mimetype": "text/x-python",
   "name": "python",
   "nbconvert_exporter": "python",
   "pygments_lexer": "ipython3",
   "version": "3.11.7"
  }
 },
 "nbformat": 4,
 "nbformat_minor": 5
}
